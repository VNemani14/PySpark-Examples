{
 "cells": [
  {
   "cell_type": "markdown",
   "id": "46ebf596",
   "metadata": {},
   "source": [
    "# NLP Tools - 1"
   ]
  },
  {
   "cell_type": "code",
   "execution_count": 2,
   "id": "39869046",
   "metadata": {},
   "outputs": [],
   "source": [
    "import findspark\n",
    "findspark.init('/home/venkat/Downloads/spark-3.2.0-bin-hadoop3.2')\n",
    "\n",
    "from pyspark.sql import SparkSession"
   ]
  },
  {
   "cell_type": "code",
   "execution_count": 4,
   "id": "ee18d3a0",
   "metadata": {},
   "outputs": [],
   "source": [
    "spark = SparkSession.builder.appName('nlp').getOrCreate()"
   ]
  },
  {
   "cell_type": "markdown",
   "id": "03341d19",
   "metadata": {},
   "source": [
    "## Tokenizer"
   ]
  },
  {
   "cell_type": "code",
   "execution_count": 5,
   "id": "9fb25cc0",
   "metadata": {},
   "outputs": [],
   "source": [
    "from pyspark.ml.feature import Tokenizer, RegexTokenizer"
   ]
  },
  {
   "cell_type": "code",
   "execution_count": 7,
   "id": "060eb222",
   "metadata": {},
   "outputs": [],
   "source": [
    "from pyspark.sql.functions import col, udf\n",
    "from pyspark.sql.types import IntegerType"
   ]
  },
  {
   "cell_type": "code",
   "execution_count": 9,
   "id": "183b3cd5",
   "metadata": {},
   "outputs": [],
   "source": [
    "sen_df = spark.createDataFrame([\n",
    "        (0,'Hi I am learning Spark'),\n",
    "        (1, 'I like spark'),\n",
    "        (2, 'Logistic,regression,models,are,good')\n",
    "    \n",
    "], ['id','sentence'])"
   ]
  },
  {
   "cell_type": "code",
   "execution_count": 10,
   "id": "2a3d3df1",
   "metadata": {},
   "outputs": [
    {
     "name": "stderr",
     "output_type": "stream",
     "text": [
      "                                                                                \r"
     ]
    },
    {
     "name": "stdout",
     "output_type": "stream",
     "text": [
      "+---+--------------------+\n",
      "| id|            sentence|\n",
      "+---+--------------------+\n",
      "|  0|Hi I am learning ...|\n",
      "|  1|        I like spark|\n",
      "|  2|Logistic,regressi...|\n",
      "+---+--------------------+\n",
      "\n"
     ]
    }
   ],
   "source": [
    "sen_df.show()"
   ]
  },
  {
   "cell_type": "code",
   "execution_count": 11,
   "id": "0042e70a",
   "metadata": {},
   "outputs": [],
   "source": [
    "tokenizer = Tokenizer(inputCol='sentence', outputCol='words')\n",
    "\n",
    "regex_tokenizer = RegexTokenizer(inputCol='sentence', outputCol='words', pattern='\\\\W') # pattern to split on"
   ]
  },
  {
   "cell_type": "code",
   "execution_count": 20,
   "id": "cc368485",
   "metadata": {},
   "outputs": [],
   "source": [
    "count_tokens = udf(lambda words:len(words), IntegerType()) #user defined function"
   ]
  },
  {
   "cell_type": "code",
   "execution_count": 15,
   "id": "6e8698aa",
   "metadata": {},
   "outputs": [],
   "source": [
    "tokenized = tokenizer.transform(sen_df)"
   ]
  },
  {
   "cell_type": "code",
   "execution_count": 17,
   "id": "dd02cc4b",
   "metadata": {},
   "outputs": [
    {
     "name": "stderr",
     "output_type": "stream",
     "text": [
      "                                                                                \r"
     ]
    },
    {
     "name": "stdout",
     "output_type": "stream",
     "text": [
      "+---+--------------------+--------------------+------+\n",
      "| id|            sentence|               words|tokens|\n",
      "+---+--------------------+--------------------+------+\n",
      "|  0|Hi I am learning ...|[hi, i, am, learn...|     5|\n",
      "|  1|        I like spark|    [i, like, spark]|     3|\n",
      "|  2|Logistic,regressi...|[logistic,regress...|     1|\n",
      "+---+--------------------+--------------------+------+\n",
      "\n"
     ]
    }
   ],
   "source": [
    "tokenized.withColumn('tokens', count_tokens(col('words'))).show()"
   ]
  },
  {
   "cell_type": "markdown",
   "id": "356d46b9",
   "metadata": {},
   "source": [
    "## the third sentence did not split"
   ]
  },
  {
   "cell_type": "code",
   "execution_count": 18,
   "id": "954bee3f",
   "metadata": {},
   "outputs": [],
   "source": [
    "rg_tokenized = regex_tokenizer.transform(sen_df)"
   ]
  },
  {
   "cell_type": "code",
   "execution_count": 19,
   "id": "924c293e",
   "metadata": {},
   "outputs": [
    {
     "name": "stdout",
     "output_type": "stream",
     "text": [
      "+---+--------------------+--------------------+------+\n",
      "| id|            sentence|               words|tokens|\n",
      "+---+--------------------+--------------------+------+\n",
      "|  0|Hi I am learning ...|[hi, i, am, learn...|     5|\n",
      "|  1|        I like spark|    [i, like, spark]|     3|\n",
      "|  2|Logistic,regressi...|[logistic, regres...|     5|\n",
      "+---+--------------------+--------------------+------+\n",
      "\n"
     ]
    }
   ],
   "source": [
    "rg_tokenized.withColumn('tokens', count_tokens(col('words'))).show() #This works well"
   ]
  },
  {
   "cell_type": "markdown",
   "id": "c7742395",
   "metadata": {},
   "source": [
    "## Stop word removal - such as \"a\", \"the\" which occur quite frequently"
   ]
  },
  {
   "cell_type": "code",
   "execution_count": 21,
   "id": "40cc2660",
   "metadata": {},
   "outputs": [],
   "source": [
    "from pyspark.ml.feature import StopWordsRemover"
   ]
  },
  {
   "cell_type": "code",
   "execution_count": 22,
   "id": "1be665b2",
   "metadata": {},
   "outputs": [],
   "source": [
    "sentenceDataFrame = spark.createDataFrame([\n",
    "        (0,['I', 'saw', 'the','green','horse']),\n",
    "        (1, ['Mary', 'had', 'a','little','lamb'])\n",
    "    \n",
    "], ['id','tokens'])"
   ]
  },
  {
   "cell_type": "code",
   "execution_count": 24,
   "id": "f66afe9a",
   "metadata": {},
   "outputs": [
    {
     "name": "stdout",
     "output_type": "stream",
     "text": [
      "+---+--------------------+--------------------+\n",
      "| id|              tokens|            filtered|\n",
      "+---+--------------------+--------------------+\n",
      "|  0|[I, saw, the, gre...| [saw, green, horse]|\n",
      "|  1|[Mary, had, a, li...|[Mary, little, lamb]|\n",
      "+---+--------------------+--------------------+\n",
      "\n"
     ]
    }
   ],
   "source": [
    "remover = StopWordsRemover(inputCol='tokens', outputCol='filtered')\n",
    "remover.transform(sentenceDataFrame).show()"
   ]
  },
  {
   "cell_type": "markdown",
   "id": "97370c51",
   "metadata": {},
   "source": [
    "## n-gram to transform input string (output of tokenizer)"
   ]
  },
  {
   "cell_type": "code",
   "execution_count": 25,
   "id": "ec532a9d",
   "metadata": {},
   "outputs": [],
   "source": [
    "from pyspark.ml.feature import NGram"
   ]
  },
  {
   "cell_type": "code",
   "execution_count": 27,
   "id": "35d33674",
   "metadata": {},
   "outputs": [],
   "source": [
    "wordDataFrame = spark.createDataFrame([\n",
    "        (0,['I', 'saw', 'the','green','horse']),\n",
    "        (1, ['Mary', 'had', 'a','little','lamb']),\n",
    "        (2, ['Buzz', 'of', 'the','honey','bees'])\n",
    "    \n",
    "], ['id','words'])"
   ]
  },
  {
   "cell_type": "code",
   "execution_count": 28,
   "id": "e8a95b74",
   "metadata": {},
   "outputs": [
    {
     "name": "stdout",
     "output_type": "stream",
     "text": [
      "+---+----------------------------+----------------------------------------+\n",
      "|id |words                       |grams                                   |\n",
      "+---+----------------------------+----------------------------------------+\n",
      "|0  |[I, saw, the, green, horse] |[I saw, saw the, the green, green horse]|\n",
      "|1  |[Mary, had, a, little, lamb]|[Mary had, had a, a little, little lamb]|\n",
      "|2  |[Buzz, of, the, honey, bees]|[Buzz of, of the, the honey, honey bees]|\n",
      "+---+----------------------------+----------------------------------------+\n",
      "\n"
     ]
    }
   ],
   "source": [
    "ngram = NGram(n=2, inputCol='words', outputCol='grams')\n",
    "ngram.transform(wordDataFrame).show(truncate=False)"
   ]
  },
  {
   "cell_type": "code",
   "execution_count": null,
   "id": "8be65426",
   "metadata": {},
   "outputs": [],
   "source": []
  }
 ],
 "metadata": {
  "kernelspec": {
   "display_name": "Python 3 (ipykernel)",
   "language": "python",
   "name": "python3"
  },
  "language_info": {
   "codemirror_mode": {
    "name": "ipython",
    "version": 3
   },
   "file_extension": ".py",
   "mimetype": "text/x-python",
   "name": "python",
   "nbconvert_exporter": "python",
   "pygments_lexer": "ipython3",
   "version": "3.8.10"
  }
 },
 "nbformat": 4,
 "nbformat_minor": 5
}
