{
 "cells": [
  {
   "cell_type": "markdown",
   "id": "3dfd5c7b",
   "metadata": {},
   "source": [
    "## Basic Code"
   ]
  },
  {
   "cell_type": "code",
   "execution_count": 2,
   "id": "f1a944fe",
   "metadata": {},
   "outputs": [],
   "source": [
    "import findspark\n",
    "findspark.init('/home/venkat/Downloads/spark-3.2.0-bin-hadoop3.2')\n",
    "\n",
    "from pyspark.sql import SparkSession\n",
    "\n",
    "spark = SparkSession.builder.appName('cluster').getOrCreate()"
   ]
  },
  {
   "cell_type": "code",
   "execution_count": 3,
   "id": "b92f3483",
   "metadata": {},
   "outputs": [],
   "source": [
    "from pyspark.ml.clustering import KMeans"
   ]
  },
  {
   "cell_type": "code",
   "execution_count": 5,
   "id": "8d771428",
   "metadata": {},
   "outputs": [
    {
     "name": "stderr",
     "output_type": "stream",
     "text": [
      "21/11/30 09:28:38 WARN LibSVMFileFormat: 'numFeatures' option not specified, determining the number of features by going though the input. If you know the number in advance, please specify it via 'numFeatures' option to avoid the extra scan.\n"
     ]
    }
   ],
   "source": [
    "data = spark.read.format('libsvm').load('sample_kmeans_data.txt')"
   ]
  },
  {
   "cell_type": "code",
   "execution_count": 8,
   "id": "d2a59469",
   "metadata": {},
   "outputs": [
    {
     "name": "stdout",
     "output_type": "stream",
     "text": [
      "+-----+--------------------+\n",
      "|label|            features|\n",
      "+-----+--------------------+\n",
      "|  0.0|           (3,[],[])|\n",
      "|  1.0|(3,[0,1,2],[0.1,0...|\n",
      "|  2.0|(3,[0,1,2],[0.2,0...|\n",
      "|  3.0|(3,[0,1,2],[9.0,9...|\n",
      "|  4.0|(3,[0,1,2],[9.1,9...|\n",
      "|  5.0|(3,[0,1,2],[9.2,9...|\n",
      "+-----+--------------------+\n",
      "\n"
     ]
    }
   ],
   "source": [
    "data.show() #lables are not really useful here"
   ]
  },
  {
   "cell_type": "code",
   "execution_count": 9,
   "id": "8169b310",
   "metadata": {},
   "outputs": [],
   "source": [
    "final_data=data.select('features')"
   ]
  },
  {
   "cell_type": "code",
   "execution_count": 11,
   "id": "c7a3e30b",
   "metadata": {},
   "outputs": [],
   "source": [
    "kmeans = KMeans().setK(2).setSeed(1)"
   ]
  },
  {
   "cell_type": "code",
   "execution_count": 12,
   "id": "e7500e03",
   "metadata": {},
   "outputs": [
    {
     "name": "stderr",
     "output_type": "stream",
     "text": [
      "                                                                                \r"
     ]
    }
   ],
   "source": [
    "kmean_model=kmeans.fit(final_data)"
   ]
  },
  {
   "cell_type": "code",
   "execution_count": 13,
   "id": "c18296bb",
   "metadata": {},
   "outputs": [
    {
     "data": {
      "text/plain": [
       "KMeansModel: uid=KMeans_d97a48990b8c, k=2, distanceMeasure=euclidean, numFeatures=3"
      ]
     },
     "execution_count": 13,
     "metadata": {},
     "output_type": "execute_result"
    }
   ],
   "source": [
    "kmean_model"
   ]
  },
  {
   "cell_type": "code",
   "execution_count": 17,
   "id": "ec2900b7",
   "metadata": {},
   "outputs": [
    {
     "name": "stdout",
     "output_type": "stream",
     "text": [
      "0.9997530305375207\n"
     ]
    }
   ],
   "source": [
    "from pyspark.ml.evaluation import ClusteringEvaluator\n",
    "evaluator = ClusteringEvaluator()\n",
    "sse = evaluator.evaluate(kmean_model.transform(final_data))\n",
    "print(sse)"
   ]
  },
  {
   "cell_type": "code",
   "execution_count": 19,
   "id": "b52dd06e",
   "metadata": {},
   "outputs": [],
   "source": [
    "centers = kmean_model.clusterCenters()"
   ]
  },
  {
   "cell_type": "code",
   "execution_count": 20,
   "id": "ff08e16b",
   "metadata": {},
   "outputs": [
    {
     "data": {
      "text/plain": [
       "[array([9.1, 9.1, 9.1]), array([0.1, 0.1, 0.1])]"
      ]
     },
     "execution_count": 20,
     "metadata": {},
     "output_type": "execute_result"
    }
   ],
   "source": [
    "centers # get the two centers"
   ]
  },
  {
   "cell_type": "code",
   "execution_count": 21,
   "id": "314e9c6c",
   "metadata": {},
   "outputs": [],
   "source": [
    "results = kmean_model.transform(final_data)"
   ]
  },
  {
   "cell_type": "code",
   "execution_count": 23,
   "id": "f579ab0a",
   "metadata": {},
   "outputs": [
    {
     "name": "stdout",
     "output_type": "stream",
     "text": [
      "+--------------------+----------+\n",
      "|            features|prediction|\n",
      "+--------------------+----------+\n",
      "|           (3,[],[])|         1|\n",
      "|(3,[0,1,2],[0.1,0...|         1|\n",
      "|(3,[0,1,2],[0.2,0...|         1|\n",
      "|(3,[0,1,2],[9.0,9...|         0|\n",
      "|(3,[0,1,2],[9.1,9...|         0|\n",
      "|(3,[0,1,2],[9.2,9...|         0|\n",
      "+--------------------+----------+\n",
      "\n"
     ]
    }
   ],
   "source": [
    "results.show()"
   ]
  },
  {
   "cell_type": "code",
   "execution_count": null,
   "id": "2a3ef308",
   "metadata": {},
   "outputs": [],
   "source": []
  }
 ],
 "metadata": {
  "kernelspec": {
   "display_name": "Python 3 (ipykernel)",
   "language": "python",
   "name": "python3"
  },
  "language_info": {
   "codemirror_mode": {
    "name": "ipython",
    "version": 3
   },
   "file_extension": ".py",
   "mimetype": "text/x-python",
   "name": "python",
   "nbconvert_exporter": "python",
   "pygments_lexer": "ipython3",
   "version": "3.8.10"
  }
 },
 "nbformat": 4,
 "nbformat_minor": 5
}
